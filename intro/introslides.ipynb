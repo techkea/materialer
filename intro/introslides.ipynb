{
 "cells": [
  {
   "cell_type": "markdown",
   "metadata": {
    "slideshow": {
     "slide_type": "slide"
    }
   },
   "source": [
    "# Teknologi II\n",
    "Devops, Docker, Azure, Github Actions, Netværk "
   ]
  },
  {
   "cell_type": "markdown",
   "metadata": {
    "slideshow": {
     "slide_type": "slide"
    }
   },
   "source": [
    "## Claus Bové \n",
    "\n",
    "* Udannet på CBS/ITU i år 2010\n",
    "* Uddannet på Musikkoservatoriet i år 1998\n",
    "\n",
    "Underviser\n",
    "* Python\n",
    "* Teknologi 1\n",
    "* Teknologi 2\n",
    "* Softwarearkitektur på ITA\n",
    "* Statens IT"
   ]
  },
  {
   "cell_type": "markdown",
   "metadata": {
    "slideshow": {
     "slide_type": "slide"
    }
   },
   "source": [
    "# Om dette fag\n",
    "https://katalog.kea.dk/course/3050352/2024-2025"
   ]
  },
  {
   "cell_type": "markdown",
   "metadata": {
    "slideshow": {
     "slide_type": "slide"
    }
   },
   "source": [
    "# Eksamen\n",
    "20 minutters mundtlig eksamen, inklusiv 5 minutter til karaktergivning.     \n",
    "Eksamen vil baseres på spørgsmål fra kurset.     \n",
    "Censor: Intern fra KEA.\n",
    "\n",
    "Spørgsmål:\n",
    "\n",
    "* What is Docker?\n",
    "* What is a Dockerfile?\n",
    "* What is a Docker Image?\n",
    "* What is a Docker Container?\n",
    "* How to manage ports on a Docker container?\n",
    "* What is the Docker command to:\n",
    "    a. build an image ?\n",
    "    b. create a container ?\n",
    "    c. stop/start a container ?\n",
    "    d. list all images?\n",
    "    e. list all containers?\n",
    "    f. delete an image?\n",
    "    g. delete a container?"
   ]
  },
  {
   "cell_type": "markdown",
   "metadata": {
    "slideshow": {
     "slide_type": "slide"
    }
   },
   "source": [
    "**Prepared demonstration:**\n",
    "At the exam it is expected, that you can demonstrate how to setup the CI/CD pipline, which we have worked with during the course.    \n",
    "More precisely, you are expected to perform one of the following 6 steps.     \n",
    "You are free to chose, which one to demonstrate. And you are allowed to practice this demonstration at home.\n",
    "\n",
    "* Create a new Azure Virtual Machine\n",
    "* Connect to a Azure Virtual Machine from terminal\n",
    "* Demonstrate terminal commands, such as:\n",
    "    * Show all files i directory\n",
    "    * Change file permissions\n",
    "    * Create a new textfile (nano)\n",
    "* Install Docker (on a Linux machine)\n",
    "* Docker:\n",
    "    * create a dockerfile\n",
    "    * create a new docker image\n",
    "    * start a new docker container\n",
    "* Create a Webapp in Azure\n",
    "    * connect to Github repository\n",
    "    * show that a new git commit will trigger Github Actions\n",
    "\n"
   ]
  }
 ],
 "metadata": {
  "kernelspec": {
   "display_name": ".venv",
   "language": "python",
   "name": "python3"
  },
  "language_info": {
   "name": "python",
   "version": "3.11.11"
  }
 },
 "nbformat": 4,
 "nbformat_minor": 2
}
